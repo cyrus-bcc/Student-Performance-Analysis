{
 "cells": [
  {
   "cell_type": "code",
   "execution_count": 19,
   "id": "495ab6e5",
   "metadata": {},
   "outputs": [],
   "source": [
    "#Import \n",
    "import pandas as pd\n",
    "import matplotlib.pyplot as plt\n",
    "import seaborn as sns\n",
    "import numpy as np\n",
    "from sklearn.model_selection import train_test_split\n",
    "from sklearn.ensemble import RandomForestClassifier\n",
    "from sklearn.metrics import accuracy_score, classification_report\n",
    "from sklearn.ensemble import RandomForestRegressor\n",
    "from sklearn.metrics import mean_squared_error, r2_score\n",
    "\n"
   ]
  },
  {
   "cell_type": "code",
   "execution_count": null,
   "id": "ba801e2f",
   "metadata": {},
   "outputs": [],
   "source": [
    "#Read CSV\n",
    "df = pd.read_csv(\"../data/preprocessed/clean_data.csv\")"
   ]
  },
  {
   "cell_type": "code",
   "execution_count": null,
   "id": "97cf895e",
   "metadata": {},
   "outputs": [],
   "source": [
    "#Encode Categorical Variables\n",
    "df_encoded = pd.get_dummies(df, drop_first=True)\n"
   ]
  },
  {
   "cell_type": "code",
   "execution_count": null,
   "id": "c8d30110",
   "metadata": {},
   "outputs": [],
   "source": [
    "#Split Data\n",
    "X = df_encoded.drop(['GPA', 'GradeClass'], axis=1)\n",
    "y_class = df_encoded['GradeClass']\n",
    "y_reg = df_encoded['GPA']\n",
    "\n",
    "X_train, X_test, y_train, y_test = train_test_split(X, y_class, test_size=0.2, random_state=42)\n"
   ]
  },
  {
   "cell_type": "markdown",
   "id": "35d4b6d1",
   "metadata": {},
   "source": [
    "Classification (GradeClass)"
   ]
  },
  {
   "cell_type": "code",
   "execution_count": 8,
   "id": "73c69401",
   "metadata": {},
   "outputs": [
    {
     "name": "stdout",
     "output_type": "stream",
     "text": [
      "Accuracy: 0.697286012526096\n",
      "              precision    recall  f1-score   support\n",
      "\n",
      "         0.0       0.50      0.09      0.15        22\n",
      "         1.0       0.46      0.53      0.49        49\n",
      "         2.0       0.53      0.59      0.56        85\n",
      "         3.0       0.52      0.38      0.44        86\n",
      "         4.0       0.86      0.94      0.90       237\n",
      "\n",
      "    accuracy                           0.70       479\n",
      "   macro avg       0.57      0.51      0.51       479\n",
      "weighted avg       0.68      0.70      0.68       479\n",
      "\n"
     ]
    }
   ],
   "source": [
    "#Classification\n",
    "clf = RandomForestClassifier()\n",
    "clf.fit(X_train, y_train)\n",
    "preds = clf.predict(X_test)\n",
    "\n",
    "print(\"Accuracy:\", accuracy_score(y_test, preds))\n",
    "print(classification_report(y_test, preds))\n"
   ]
  },
  {
   "cell_type": "markdown",
   "id": "f2200054",
   "metadata": {},
   "source": [
    "Specific Features: StudyTimeWeekly, Tutoring, ParentalSupport,Absences"
   ]
  },
  {
   "cell_type": "code",
   "execution_count": 22,
   "id": "093df47a",
   "metadata": {},
   "outputs": [],
   "source": [
    "selected_features = ['StudyTimeWeekly', 'Tutoring', 'ParentalSupport',\"Absences\"]\n",
    "X = df[selected_features]\n",
    "y = df['GradeClass']  # or whatever your classification target is\n"
   ]
  },
  {
   "cell_type": "code",
   "execution_count": 23,
   "id": "67f8a0d1",
   "metadata": {},
   "outputs": [],
   "source": [
    "X_train, X_test, y_train, y_test = train_test_split(\n",
    "    X, y, test_size=0.2, random_state=42\n",
    ")\n"
   ]
  },
  {
   "cell_type": "code",
   "execution_count": 24,
   "id": "1147e3ae",
   "metadata": {},
   "outputs": [
    {
     "name": "stdout",
     "output_type": "stream",
     "text": [
      "Accuracy: 0.6805845511482255\n",
      "              precision    recall  f1-score   support\n",
      "\n",
      "         0.0       0.60      0.27      0.38        22\n",
      "         1.0       0.49      0.57      0.53        49\n",
      "         2.0       0.52      0.52      0.52        85\n",
      "         3.0       0.46      0.42      0.44        86\n",
      "         4.0       0.85      0.89      0.87       237\n",
      "\n",
      "    accuracy                           0.68       479\n",
      "   macro avg       0.58      0.53      0.55       479\n",
      "weighted avg       0.67      0.68      0.67       479\n",
      "\n"
     ]
    }
   ],
   "source": [
    "clf = RandomForestClassifier()\n",
    "clf.fit(X_train, y_train)\n",
    "preds = clf.predict(X_test)\n",
    "\n",
    "print(\"Accuracy:\", accuracy_score(y_test, preds))\n",
    "print(classification_report(y_test, preds))\n"
   ]
  },
  {
   "cell_type": "markdown",
   "id": "53a5f079",
   "metadata": {},
   "source": [
    "Regression (GPA)"
   ]
  },
  {
   "cell_type": "code",
   "execution_count": 20,
   "id": "9f25eb04",
   "metadata": {},
   "outputs": [
    {
     "name": "stdout",
     "output_type": "stream",
     "text": [
      "RMSE: 0.24954205939264643\n",
      "R² Score: 0.9246961138679227\n"
     ]
    }
   ],
   "source": [
    "# Correct train/test split\n",
    "X_train, X_test, y_train, y_test = train_test_split(X, y_reg, test_size=0.2, random_state=42)\n",
    "\n",
    "# Fit model on training set\n",
    "reg = RandomForestRegressor()\n",
    "reg.fit(X_train, y_train)\n",
    "\n",
    "# Predict on test set\n",
    "preds = reg.predict(X_test)\n",
    "\n",
    "# Evaluate using test set\n",
    "rmse = np.sqrt(mean_squared_error(y_test, preds))\n",
    "print(\"RMSE:\", rmse)\n",
    "print(\"R² Score:\", r2_score(y_test, preds))"
   ]
  },
  {
   "cell_type": "markdown",
   "id": "a40cbd10",
   "metadata": {},
   "source": [
    "Specific Features: StudyTimeWeekly, Tutoring, ParentalSupport,Absences"
   ]
  },
  {
   "cell_type": "code",
   "execution_count": 25,
   "id": "499bcd61",
   "metadata": {},
   "outputs": [],
   "source": [
    "selected_features = ['StudyTimeWeekly', 'Tutoring', 'ParentalSupport',\"Absences\"]\n",
    "X = df[selected_features]\n",
    "y = df['GPA']  # or whatever your classification target is\n"
   ]
  },
  {
   "cell_type": "code",
   "execution_count": 26,
   "id": "dd9f7100",
   "metadata": {},
   "outputs": [],
   "source": [
    "X_train, X_test, y_train, y_test = train_test_split(X, y, test_size=0.2, random_state=42)\n"
   ]
  },
  {
   "cell_type": "code",
   "execution_count": 27,
   "id": "98195145",
   "metadata": {},
   "outputs": [
    {
     "name": "stdout",
     "output_type": "stream",
     "text": [
      "RMSE: 0.26400439803690184\n",
      "R² Score: 0.9157146289792137\n"
     ]
    }
   ],
   "source": [
    "reg = RandomForestRegressor()\n",
    "reg.fit(X_train, y_train)\n",
    "\n",
    "preds = reg.predict(X_test)\n",
    "\n",
    "# 5. Evaluation\n",
    "rmse = np.sqrt(mean_squared_error(y_test, preds))\n",
    "print(\"RMSE:\", rmse)\n",
    "print(\"R² Score:\", r2_score(y_test, preds))"
   ]
  }
 ],
 "metadata": {
  "kernelspec": {
   "display_name": "Python 3",
   "language": "python",
   "name": "python3"
  },
  "language_info": {
   "codemirror_mode": {
    "name": "ipython",
    "version": 3
   },
   "file_extension": ".py",
   "mimetype": "text/x-python",
   "name": "python",
   "nbconvert_exporter": "python",
   "pygments_lexer": "ipython3",
   "version": "3.10.6"
  }
 },
 "nbformat": 4,
 "nbformat_minor": 5
}
