{
 "cells": [
  {
   "cell_type": "code",
   "execution_count": null,
   "id": "e96c71ba",
   "metadata": {},
   "outputs": [],
   "source": [
    "#Import\n",
    "import pandas as pd"
   ]
  },
  {
   "cell_type": "code",
   "execution_count": null,
   "id": "8219dd4b",
   "metadata": {},
   "outputs": [],
   "source": [
    "df = pd.read_csv(\"../raw/raw_data\")\n",
    "df.head(5)"
   ]
  }
 ],
 "metadata": {
  "kernelspec": {
   "display_name": "Python 3",
   "language": "python",
   "name": "python3"
  },
  "language_info": {
   "name": "python",
   "version": "3.10.6"
  }
 },
 "nbformat": 4,
 "nbformat_minor": 5
}
